{
 "cells": [
  {
   "cell_type": "markdown",
   "metadata": {},
   "source": [
    "# Adaptive model detection (AMD) with neural network predictor"
   ]
  },
  {
   "cell_type": "markdown",
   "metadata": {},
   "source": [
    "## Setup, imports, initialisation\n",
    "\n",
    "### Importing"
   ]
  },
  {
   "cell_type": "code",
   "execution_count": 1,
   "metadata": {},
   "outputs": [],
   "source": [
    "import numpy as np\n",
    "import torch\n",
    "import math\n",
    "from adaptive_model_detection import amd\n",
    "from tqdm.notebook import tqdm"
   ]
  },
  {
   "cell_type": "markdown",
   "metadata": {},
   "source": [
    "### Environments\n",
    "\n",
    "Some sample environments are included in the `environments` folder. More environments and guidance on how to make your own that integrate with this code is included in [this repository](https://www.github.com/jupilogy/pomdp-tools \"JupiLogy's POMDP tools\")."
   ]
  },
  {
   "cell_type": "code",
   "execution_count": 2,
   "metadata": {},
   "outputs": [],
   "source": [
    "from environments.pomdps import ENVX, ENVY\n",
    "\n",
    "environment1 = ENVX\n",
    "environment2 = ENVY"
   ]
  },
  {
   "cell_type": "markdown",
   "metadata": {},
   "source": [
    "### Seed\n",
    "Optionally, run with a seed of 0 to replicate figure 8 from the paper."
   ]
  },
  {
   "cell_type": "code",
   "execution_count": 3,
   "metadata": {},
   "outputs": [],
   "source": [
    "np.random.seed(0)"
   ]
  },
  {
   "cell_type": "markdown",
   "metadata": {},
   "source": [
    "### Predictor\n",
    "\n",
    "We use a vanilla neural network as our predictor. Of course, the architecture of this network can be changed. The parameter `hlen` is the length of history the network is fed at each timestep."
   ]
  },
  {
   "cell_type": "code",
   "execution_count": 4,
   "metadata": {},
   "outputs": [],
   "source": [
    "from agents.nn import vanilla_nn\n",
    "\n",
    "hlen = 10\n",
    "nn1 = vanilla_nn(in_size=hlen*2)\n",
    "nn2 = vanilla_nn(in_size=hlen*2)"
   ]
  },
  {
   "cell_type": "markdown",
   "metadata": {},
   "source": [
    "### AMD trackers\n",
    "\n",
    "`hlen` for AMD should be quite long for an accurate p-value. A shorter p-value means the agent detects changes faster. In general, a more complex environment should be given a longer `hlen`."
   ]
  },
  {
   "cell_type": "code",
   "execution_count": 5,
   "metadata": {},
   "outputs": [],
   "source": [
    "amd1 = amd([[0.5, 0.5]], 1, 2, h_len=100)\n",
    "amd2 = amd([[0.5, 0.5]], 1, 2, h_len=100)"
   ]
  },
  {
   "cell_type": "markdown",
   "metadata": {},
   "source": [
    "### PSR for error reference\n",
    "\n",
    "In order to determine the accuracy of the agent, we compare its prediction at each timestep against an accurate PSR. This is **not** used for the loss (since knowing the accurate prediction defeats the point of making an agent learn the accurate prediction)."
   ]
  },
  {
   "cell_type": "code",
   "execution_count": 6,
   "metadata": {},
   "outputs": [],
   "source": [
    "from environments.transforms import pomdp_to_psr\n",
    "\n",
    "Qr1, Ur1, Mr1 = pomdp_to_psr(environment1)\n",
    "Sr1 = np.array([np.transpose(np.mean(Ur1, axis=0))])\n",
    "\n",
    "Qr2, Ur2, Mr2 = pomdp_to_psr(environment2)\n",
    "Sr2 = np.array([np.transpose(np.mean(Ur2, axis=0))])\n",
    "\n",
    "from accuracy.amd_error import amd_error"
   ]
  },
  {
   "cell_type": "markdown",
   "metadata": {},
   "source": [
    "### Data generation\n",
    "\n",
    "Generating data which switches between the environments."
   ]
  },
  {
   "cell_type": "code",
   "execution_count": 7,
   "metadata": {},
   "outputs": [],
   "source": [
    "from environments.datagen import random_traverse\n",
    "\n",
    "data = np.append(\n",
    "    random_traverse(10000, environment1),\n",
    "    np.append(\n",
    "        random_traverse(10000, environment2),\n",
    "        np.append(\n",
    "            random_traverse(5000, environment1),\n",
    "            np.append(\n",
    "                random_traverse(5000, environment2),\n",
    "                np.append(\n",
    "                    random_traverse(5000, environment1),\n",
    "                    random_traverse(5000, environment2),\n",
    "                    axis=0),\n",
    "                axis=0),\n",
    "            axis=0),\n",
    "        axis=0),\n",
    "    axis=0)"
   ]
  },
  {
   "cell_type": "markdown",
   "metadata": {},
   "source": [
    "### Results storage\n",
    "\n",
    "We will store the error of the agents and their p-values over time in these arrays."
   ]
  },
  {
   "cell_type": "code",
   "execution_count": 8,
   "metadata": {},
   "outputs": [],
   "source": [
    "error_array1 = []\n",
    "error_array2 = []\n",
    "pvals1 = []\n",
    "pvals2 = []"
   ]
  },
  {
   "cell_type": "markdown",
   "metadata": {},
   "source": [
    "## Training\n",
    "\n",
    "### Which agent is trained?\n",
    "\n",
    "If the agent is not given a certain amount of training in each environment, it will not learn the environment well enough for AMD to accurately predict if the predictions are accurate. Therefore, for the first 10000 timesteps in each environment, the trained agent is manually selected.\n",
    "\n",
    "After this \"supervised\" phase, the agent with the highest p-value is trained. If both p-values are below 5%, neither agent is trained.\n",
    "\n",
    "### What is used for the neural network loss?\n",
    "\n",
    "The next observation provided by the environment is used for the loss. Note that this is **not** the same as the accurate prediction provided by the PSR."
   ]
  },
  {
   "cell_type": "code",
   "execution_count": 9,
   "metadata": {},
   "outputs": [
    {
     "data": {
      "application/vnd.jupyter.widget-view+json": {
       "model_id": "5d325887ab984e15aed3ce4decf7e5d3",
       "version_major": 2,
       "version_minor": 0
      },
      "text/plain": [
       "HBox(children=(HTML(value=''), FloatProgress(value=0.0, max=39990.0), HTML(value='')))"
      ]
     },
     "metadata": {},
     "output_type": "display_data"
    },
    {
     "name": "stdout",
     "output_type": "stream",
     "text": [
      "\n"
     ]
    }
   ],
   "source": [
    "for i in tqdm(range(data.shape[0] - hlen)):\n",
    "    # Get next prediction from nn1 and nn2\n",
    "    s1 = nn1.step(data[i: i+hlen].flatten())\n",
    "    s2 = nn2.step(data[i: i+hlen].flatten())\n",
    "\n",
    "    # Step AMD trackers at each timestep\n",
    "    amd1.step(np.array([s1.detach().numpy()]), *data[i + hlen-1])\n",
    "    amd2.step(np.array([s2.detach().numpy()]), *data[i + hlen-1])\n",
    "\n",
    "    if i + hlen < 10000:\n",
    "        # For first 10000 timesteps, only train nn1\n",
    "        err2, Sr2 = amd_error(Sr1, Mr1, Qr1, s2, *data[i + hlen-1])\n",
    "        err1, Sr1 = amd_error(Sr1, Mr1, Qr1, s1, *data[i + hlen-1])\n",
    "        nn1.backward(*data[i + hlen])\n",
    "    elif i + hlen < 20000:\n",
    "        # For second 10000 timesteps, only train nn2\n",
    "        err1, Sr1 = amd_error(Sr2, Mr2, Qr2, s1, *data[i + hlen-1])\n",
    "        err2, Sr2 = amd_error(Sr2, Mr2, Qr2, s2, *data[i + hlen-1])\n",
    "        nn2.backward(*data[i + hlen])\n",
    "\n",
    "    # From then on, train the network with the highest p-value, unless both p-values are low\n",
    "    elif i + hlen < 25000 or 30000 < i + hlen < 35000:\n",
    "        err2, Sr2 = amd_error(Sr1, Mr1, Qr1, s2, *data[i + hlen-1])\n",
    "        err1, Sr1 = amd_error(Sr1, Mr1, Qr1, s1, *data[i + hlen-1])\n",
    "        if amd1.p_val > amd2.p_val and amd1.p_val > 0.05:\n",
    "            nn1.backward(*data[i + hlen])\n",
    "        elif amd2.p_val > 0.05:\n",
    "            nn2.backward(*data[i + hlen])\n",
    "    else:\n",
    "        err1, Sr1 = amd_error(Sr2, Mr2, Qr2, s1, *data[i + hlen-1])\n",
    "        err2, Sr2 = amd_error(Sr2, Mr2, Qr2, s2, *data[i + hlen-1])\n",
    "        if amd1.p_val > amd2.p_val and amd1.p_val > 0.05:\n",
    "            nn1.backward(*data[i + hlen])\n",
    "        elif amd2.p_val > 0.05:\n",
    "            nn2.backward(*data[i + hlen])\n",
    "\n",
    "    # Add error and p-values to storage arrays\n",
    "    error_array1.append(err1)\n",
    "    error_array2.append(err2)\n",
    "    pvals1.append(amd1.p_val)\n",
    "    pvals2.append(amd2.p_val)"
   ]
  },
  {
   "cell_type": "markdown",
   "metadata": {},
   "source": [
    "## Data output"
   ]
  },
  {
   "cell_type": "code",
   "execution_count": 10,
   "metadata": {},
   "outputs": [],
   "source": [
    "import matplotlib.pyplot as plt"
   ]
  },
  {
   "cell_type": "code",
   "execution_count": 11,
   "metadata": {},
   "outputs": [
    {
     "data": {
      "image/png": "[encoded data removed]",
      "text/plain": [
       "<Figure size 432x288 with 1 Axes>"
      ]
     },
     "metadata": {
      "needs_background": "light"
     },
     "output_type": "display_data"
    }
   ],
   "source": [
    "perf1 = [-math.log(x) for x in error_array1]\n",
    "perf2 = [-math.log(x) for x in error_array2]\n",
    "\n",
    "plt.plot(perf1)\n",
    "plt.plot(perf2)\n",
    "plt.show()"
   ]
  },
  {
   "cell_type": "code",
   "execution_count": 12,
   "metadata": {},
   "outputs": [
    {
     "data": {
      "image/png": "[encoded data removed]",
      "text/plain": [
       "<Figure size 432x288 with 1 Axes>"
      ]
     },
     "metadata": {
      "needs_background": "light"
     },
     "output_type": "display_data"
    }
   ],
   "source": [
    "plt.plot(pvals1)\n",
    "plt.plot(pvals2)\n",
    "plt.show()"
   ]
  }
 ],
 "metadata": {
  "kernelspec": {
   "display_name": "Python 3",
   "language": "python",
   "name": "python3"
  },
  "language_info": {
   "codemirror_mode": {
    "name": "ipython",
    "version": 3
   },
   "file_extension": ".py",
   "mimetype": "text/x-python",
   "name": "python",
   "nbconvert_exporter": "python",
   "pygments_lexer": "ipython3",
   "version": "3.7.8"
  }
 },
 "nbformat": 4,
 "nbformat_minor": 4
}
