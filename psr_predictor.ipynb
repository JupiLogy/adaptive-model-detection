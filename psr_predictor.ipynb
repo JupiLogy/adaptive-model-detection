{
 "cells": [
  {
   "cell_type": "markdown",
   "metadata": {},
   "source": [
    "# Adaptive model detection (AMD) with constrained gradient predictive state representation (PSR) predictor"
   ]
  },
  {
   "cell_type": "markdown",
   "metadata": {},
   "source": [
    "## Setup, imports, initialisation"
   ]
  },
  {
   "cell_type": "markdown",
   "metadata": {},
   "source": [
    "### Importing"
   ]
  },
  {
   "cell_type": "code",
   "execution_count": 13,
   "metadata": {},
   "outputs": [],
   "source": [
    "import numpy as np\n",
    "import torch\n",
    "import math\n",
    "from adaptive_model_detection import amd\n",
    "from tqdm.notebook import tqdm"
   ]
  },
  {
   "cell_type": "markdown",
   "metadata": {},
   "source": [
    "### Environments"
   ]
  },
  {
   "cell_type": "markdown",
   "metadata": {},
   "source": [
    "Some sample environments are included in the `environments` folder. More environments and guidance on how to make your own that integrate with this code is included in [this repository](https://www.github.com/jupilogy/pomdp-tools \"JupiLogy's POMDP tools\")."
   ]
  },
  {
   "cell_type": "code",
   "execution_count": 2,
   "metadata": {},
   "outputs": [],
   "source": [
    "from environments.pomdps import ENVX, ENVY\n",
    "\n",
    "environment1 = ENVX\n",
    "environment2 = ENVY"
   ]
  },
  {
   "cell_type": "markdown",
   "metadata": {},
   "source": [
    "### Seed\n",
    "Optionally, run with a seed of 0 to replicate figure 7 from the paper."
   ]
  },
  {
   "cell_type": "code",
   "execution_count": 3,
   "metadata": {},
   "outputs": [],
   "source": [
    "np.random.seed(0)"
   ]
  },
  {
   "cell_type": "markdown",
   "metadata": {},
   "source": [
    "### Predictor and core tests\n",
    "We use the [constrained gradient algorithm](http://papers.nips.cc/paper/2883-online-discovery-and-learning-of-predictive-state-representations.pdf) to learn a predictive state representation of the environment. This predictive state representation encodes the predictions of future events.\n",
    "\n",
    "Core tests can be discovered by the constrained gradient algorithm over time, but for the purpose of this paper, we provided them in advance."
   ]
  },
  {
   "cell_type": "code",
   "execution_count": 4,
   "metadata": {},
   "outputs": [
    {
     "name": "stdout",
     "output_type": "stream",
     "text": [
      "[1, 2, 3, 4, 5, 6, 7, 8, 9, 10]\n"
     ]
    }
   ],
   "source": [
    "core1 = [np.empty((0, 2)), np.array([[0, 1]])]\n",
    "core2 = [np.empty((0, 2)), np.array([[0, 1]])]\n",
    "\n",
    "\n",
    "from agents.psr import const_grad\n",
    "\n",
    "cg1 = const_grad(1,\n",
    "                 2,\n",
    "                 n=1000000,\n",
    "                 learning_rate=0.5,\n",
    "                 halving_interval=2000,\n",
    "                 h_len=200,\n",
    "                 core_t=core1)\n",
    "cg2 = const_grad(1,\n",
    "                 2,\n",
    "                 n=1000000,\n",
    "                 learning_rate=0.5,\n",
    "                 halving_interval=2000,\n",
    "                 h_len=200,\n",
    "                 core_t=core2)"
   ]
  },
  {
   "cell_type": "markdown",
   "metadata": {},
   "source": [
    "### AMD trackers\n",
    "`hlen` for AMD should be quite long for an accurate p-value. A smaller p-value means the agent detects changes faster. In general, a more complex environment should be given a longer `hlen`."
   ]
  },
  {
   "cell_type": "code",
   "execution_count": 5,
   "metadata": {},
   "outputs": [],
   "source": [
    "amd1 = amd([[0.5, 0.5]], 1, 2, h_len=100)\n",
    "amd2 = amd([[0.5, 0.5]], 1, 2, h_len=100)"
   ]
  },
  {
   "cell_type": "markdown",
   "metadata": {},
   "source": [
    "### PSR for error reference\n",
    "In order to determine the accuracy of the agent, we compare its prediction at each timestep against an accurate PSR. This is not used by the learning agent. The error is calculated by taking the average prediction error over 10000 timesteps, independent from the data the agent learned on."
   ]
  },
  {
   "cell_type": "code",
   "execution_count": 6,
   "metadata": {},
   "outputs": [],
   "source": [
    "from accuracy import amd_psr_error"
   ]
  },
  {
   "cell_type": "markdown",
   "metadata": {},
   "source": [
    "### Data generation\n",
    "Generating data which switches between the environments."
   ]
  },
  {
   "cell_type": "code",
   "execution_count": 7,
   "metadata": {},
   "outputs": [],
   "source": [
    "from environments.datagen import random_traverse\n",
    "\n",
    "data1 = random_traverse(10000, environment1)\n",
    "data2 = random_traverse(10000, environment2)\n",
    "rest_of_data = np.append(\n",
    "    random_traverse(5000, environment1),\n",
    "    np.append(\n",
    "        random_traverse(5000, environment2),\n",
    "        np.append(\n",
    "            random_traverse(5000, environment1),\n",
    "            random_traverse(5000, environment2),\n",
    "            axis=0),\n",
    "        axis=0),\n",
    "    axis=0)"
   ]
  },
  {
   "cell_type": "markdown",
   "metadata": {},
   "source": [
    "### Results storage\n",
    "\n",
    "We will store the error of the agents and their p-values over time in these arrays."
   ]
  },
  {
   "cell_type": "code",
   "execution_count": 8,
   "metadata": {},
   "outputs": [],
   "source": [
    "error_array1 = []\n",
    "error_array2 = []\n",
    "pvals1 = []\n",
    "pvals2 = []"
   ]
  },
  {
   "cell_type": "markdown",
   "metadata": {},
   "source": [
    "## Training\n",
    "\n",
    "### Which agent is trained?\n",
    "\n",
    "If the agent is not given a minimum amount of training in each environment, it will not learn the environment well enough for AMD to accurately predict if the predictions are accurate. Therefore, for the first 10000 timesteps in each environment, the trained agent is manually selected.\n",
    "\n",
    "After this \"supervised\" phase, the agent with the highest p-value is trained. If both p-values are below 5%, neither agent is trained.\n",
    "\n",
    "### Why is error only calculated every 400 timesteps?\n",
    "\n",
    "The error calculation is expensive. Therefore, we only calculate it every 400 timesteps. You can adjust this to be more often if you would like."
   ]
  },
  {
   "cell_type": "code",
   "execution_count": 9,
   "metadata": {},
   "outputs": [],
   "source": [
    "# For first 10k ts, no learning for agent 2\n",
    "for i in range(data1.shape[0]-1):\n",
    "    # Step the agents and get their predictions for the next a, o pair\n",
    "    cg1.step(*data1[i])\n",
    "    s1 = [[cg1.get_est(a, o) for o in range(amd1.o)] for a in range(amd1.a)]\n",
    "    cg2.no_learn_step(*data1[i])\n",
    "    s2 = [[cg2.get_est(a, o) for o in range(amd2.o)] for a in range(amd2.a)]\n",
    "    \n",
    "    # Step AMD trackers\n",
    "    amd1.step(s1, *data1[i])\n",
    "    amd2.step(s2, *data1[i])\n",
    "    \n",
    "    # Get agents' p-values\n",
    "    pvals1.append(amd1.p_val)\n",
    "    # Set agent 2's p-vals to 0 until we start training it\n",
    "    pvals2.append(0)\n",
    "\n",
    "    if i % 100 == 0:\n",
    "        # Calculate error\n",
    "        error_array1.append(amd_psr_error(environment1, cg1))\n",
    "        error_array2.append(amd_psr_error(environment1, cg2))\n",
    "\n",
    "# For second 10k ts, no learning for agent 1\n",
    "for i in range(data2.shape[0]-1):\n",
    "    # Step the agents and get their predictions for the next a, o pair\n",
    "    cg1.no_learn_step(*data2[i])\n",
    "    s1 = [[cg1.get_est(a, o) for o in range(amd1.o)] for a in range(amd1.a)]\n",
    "    cg2.step(*data2[i])\n",
    "    s2 = [[cg2.get_est(a, o) for o in range(amd2.o)] for a in range(amd2.a)]\n",
    "    \n",
    "    # Step AMD trackers\n",
    "    amd1.step(s1, *data2[i])\n",
    "    amd2.step(s2, *data2[i])\n",
    "    \n",
    "    # Get agents' p-values\n",
    "    pvals1.append(amd1.p_val)\n",
    "    pvals2.append(amd2.p_val)\n",
    "\n",
    "    if i % 100 == 0:\n",
    "        # Calculate error\n",
    "        error_array1.append(amd_psr_error(environment2, cg1))\n",
    "        error_array2.append(amd_psr_error(environment2, cg2))\n",
    "        \n",
    "# From then on, no learning for agent with lowest probability.\n",
    "for i in range(rest_of_data.shape[0]-1):\n",
    "    if amd1.p_val > amd2.p_val:\n",
    "        # Step agents (with agent 2 not learning) and get predictions for next a, o pair\n",
    "        if amd1.p_val > 0.001:\n",
    "            cg1.step(*rest_of_data[i])\n",
    "        else:\n",
    "            cg1.no_learn_step(*rest_of_data[i])\n",
    "        s1 = [[cg1.get_est(a, o) for o in range(amd1.o)] for a in range(amd1.a)]\n",
    "        cg2.no_learn_step(*rest_of_data[i])\n",
    "        s2 = [[cg2.get_est(a, o) for o in range(amd2.o)] for a in range(amd2.a)]\n",
    "    elif amd2.p_val > amd1.p_val:\n",
    "        # Step agents (with agent 1 not learning) and get predictions for next a, o pair\n",
    "        if amd2.p_val > 0.001:\n",
    "            cg2.step(*rest_of_data[i])\n",
    "        else:\n",
    "            cg2.no_learn_step(*rest_of_data[i])\n",
    "        s2 = [[cg2.get_est(a, o) for o in range(amd1.o)] for a in range(amd1.a)]\n",
    "        cg1.no_learn_step(*rest_of_data[i])\n",
    "        s1 = [[cg1.get_est(a, o) for o in range(amd2.o)] for a in range(amd2.a)]\n",
    "    else:\n",
    "        # Step agents (with both or neither agents learning)\n",
    "        if amd1.p_val > 0.001:\n",
    "            cg1.step(*rest_of_data[i])\n",
    "            cg2.step(*rest_of_data[i])\n",
    "        else:\n",
    "            cg1.no_learn_step(*rest_of_data[i])\n",
    "            cg2.no_learn_step(*rest_of_data[i])\n",
    "        # and get predictions for next a, o pair\n",
    "        s1 = [[cg1.get_est(a, o) for o in range(amd1.o)] for a in range(amd1.a)]\n",
    "        s2 = [[cg2.get_est(a, o) for o in range(amd2.o)] for a in range(amd2.a)]\n",
    "    \n",
    "    if i % 100 == 0:\n",
    "        # Calculate error (according to current environment)\n",
    "        if i < 5000 or 10000 <= i <= 15000:\n",
    "            error_array1.append(amd_psr_error(environment1, cg1))\n",
    "            error_array2.append(amd_psr_error(environment1, cg2))\n",
    "        else:\n",
    "            error_array1.append(amd_psr_error(environment2, cg1))\n",
    "            error_array2.append(amd_psr_error(environment2, cg2))\n",
    "\n",
    "    # Step AMD trackers\n",
    "    amd1.step(s1, *rest_of_data[i])\n",
    "    amd2.step(s2, *rest_of_data[i])\n",
    "\n",
    "    # Get agents' p-values\n",
    "    pvals1.append(amd1.p_val)\n",
    "    pvals2.append(amd2.p_val)"
   ]
  },
  {
   "cell_type": "markdown",
   "metadata": {},
   "source": [
    "#\n",
    "\n",
    "#\n",
    "\n",
    "#\n",
    "\n",
    "#\n",
    "\n",
    "#\n",
    "\n",
    "#\n",
    "\n",
    "#\n",
    "\n",
    "#\n",
    "\n",
    "#\n",
    "\n",
    "#\n",
    "\n",
    "#\n",
    "\n",
    "#"
   ]
  },
  {
   "cell_type": "markdown",
   "metadata": {},
   "source": [
    "## Data output"
   ]
  },
  {
   "cell_type": "code",
   "execution_count": 10,
   "metadata": {},
   "outputs": [],
   "source": [
    "import matplotlib.pyplot as plt"
   ]
  },
  {
   "cell_type": "code",
   "execution_count": 18,
   "metadata": {},
   "outputs": [
    {
     "data": {
      "image/png": "[encoded data removed]",
      "text/plain": [
       "<Figure size 432x288 with 1 Axes>"
      ]
     },
     "metadata": {
      "needs_background": "light"
     },
     "output_type": "display_data"
    }
   ],
   "source": [
    "perf1 = [-math.log(x) for x in error_array1]\n",
    "perf2 = [-math.log(x) for x in error_array2]\n",
    "\n",
    "plt.plot(perf1)\n",
    "plt.plot(perf2)\n",
    "plt.show()"
   ]
  },
  {
   "cell_type": "code",
   "execution_count": 12,
   "metadata": {},
   "outputs": [
    {
     "data": {
      "image/png": "[encoded data removed]",
      "text/plain": [
       "<Figure size 432x288 with 1 Axes>"
      ]
     },
     "metadata": {
      "needs_background": "light"
     },
     "output_type": "display_data"
    }
   ],
   "source": [
    "plt.plot(pvals1)\n",
    "plt.plot(pvals2)\n",
    "plt.show()"
   ]
  }
 ],
 "metadata": {
  "kernelspec": {
   "display_name": "Python 3",
   "language": "python",
   "name": "python3"
  },
  "language_info": {
   "codemirror_mode": {
    "name": "ipython",
    "version": 3
   },
   "file_extension": ".py",
   "mimetype": "text/x-python",
   "name": "python",
   "nbconvert_exporter": "python",
   "pygments_lexer": "ipython3",
   "version": "3.7.8"
  }
 },
 "nbformat": 4,
 "nbformat_minor": 4
}
